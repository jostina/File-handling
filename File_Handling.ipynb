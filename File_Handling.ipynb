{
  "nbformat": 4,
  "nbformat_minor": 0,
  "metadata": {
    "colab": {
      "provenance": []
    },
    "kernelspec": {
      "name": "python3",
      "display_name": "Python 3"
    },
    "language_info": {
      "name": "python"
    }
  },
  "cells": [
    {
      "cell_type": "markdown",
      "source": [
        "**File Creation:**"
      ],
      "metadata": {
        "id": "ugfhTF-RwRPR"
      }
    },
    {
      "cell_type": "code",
      "source": [
        "# Open the file \"my_file.txt\" in write mode ('w')\n",
        "with open(\"my_file.txt\", \"w\") as file:\n",
        "    # Write three lines of text, including a mix of strings and numbers\n",
        "    file.write(\"Hello, this is line 1.\\n\")\n",
        "    file.write(\"42 is a fascinating number.\\n\")\n",
        "    file.write(\"Python is awesome!\\n\")\n"
      ],
      "metadata": {
        "id": "UieFnIbMwaI4"
      },
      "execution_count": 1,
      "outputs": []
    },
    {
      "cell_type": "markdown",
      "source": [
        "**File reading and Display**"
      ],
      "metadata": {
        "id": "Sk9TJwKnwmcJ"
      }
    },
    {
      "cell_type": "code",
      "source": [
        "# Open the file \"my_file.txt\" in write mode ('w')\n",
        "with open(\"my_file.txt\", \"w\") as file:\n",
        "    # Write three lines of text, including a mix of strings and numbers\n",
        "    file.write(\"Hello, this is line 1.\\n\")\n",
        "    file.write(\"42 is a fascinating number.\\n\")\n",
        "    file.write(\"Python is awesome!\\n\")\n",
        "\n",
        "# Open the file \"my_file.txt\" in read mode ('r')\n",
        "with open(\"my_file.txt\", \"r\") as file:\n",
        "    # Read the contents of the file and display them on the console\n",
        "    contents = file.read()\n",
        "    print(contents)\n"
      ],
      "metadata": {
        "colab": {
          "base_uri": "https://localhost:8080/"
        },
        "id": "KS4LTHiVwu_J",
        "outputId": "bc7d15c1-175e-4549-b904-b0bf671917b1"
      },
      "execution_count": 2,
      "outputs": [
        {
          "output_type": "stream",
          "name": "stdout",
          "text": [
            "Hello, this is line 1.\n",
            "42 is a fascinating number.\n",
            "Python is awesome!\n",
            "\n"
          ]
        }
      ]
    },
    {
      "cell_type": "markdown",
      "source": [
        "**File Appending**"
      ],
      "metadata": {
        "id": "slkbEgwSw5WB"
      }
    },
    {
      "cell_type": "code",
      "source": [
        "# Open the file \"my_file.txt\" in write mode ('w')\n",
        "with open(\"my_file.txt\", \"w\") as file:\n",
        "    # Write three lines of text, including a mix of strings and numbers\n",
        "    file.write(\"Hello, this is line 1.\\n\")\n",
        "    file.write(\"42 is a fascinating number.\\n\")\n",
        "    file.write(\"Python is awesome!\\n\")\n",
        "\n",
        "# Open the file \"my_file.txt\" in append mode ('a')\n",
        "with open(\"my_file.txt\", \"a\") as file:\n",
        "    # Append three additional lines of text to the existing content\n",
        "    file.write(\"Appending line 1.\\n\")\n",
        "    file.write(\"Appending line 2.\\n\")\n",
        "    file.write(\"Appending line 3.\\n\")\n",
        "\n",
        "# Open the file \"my_file.txt\" in read mode ('r')\n",
        "with open(\"my_file.txt\", \"r\") as file:\n",
        "    # Read the contents of the file and display them on the console\n",
        "    contents = file.read()\n",
        "    print(contents)\n"
      ],
      "metadata": {
        "colab": {
          "base_uri": "https://localhost:8080/"
        },
        "id": "QVxV7ikrw_XJ",
        "outputId": "a73ac6d0-3beb-4084-ecf8-d96afacef42f"
      },
      "execution_count": 3,
      "outputs": [
        {
          "output_type": "stream",
          "name": "stdout",
          "text": [
            "Hello, this is line 1.\n",
            "42 is a fascinating number.\n",
            "Python is awesome!\n",
            "Appending line 1.\n",
            "Appending line 2.\n",
            "Appending line 3.\n",
            "\n"
          ]
        }
      ]
    },
    {
      "cell_type": "markdown",
      "source": [
        "**Error Handling**"
      ],
      "metadata": {
        "id": "6F4WFyKrxPOy"
      }
    },
    {
      "cell_type": "code",
      "source": [
        "try:\n",
        "    # Open the file \"my_file.txt\" in write mode ('w')\n",
        "    with open(\"my_file.txt\", \"w\") as file:\n",
        "        # Write three lines of text, including a mix of strings and numbers\n",
        "        file.write(\"Hello, this is line 1.\\n\")\n",
        "        file.write(\"42 is a fascinating number.\\n\")\n",
        "        file.write(\"Python is awesome!\\n\")\n",
        "\n",
        "    # Open the file \"my_file.txt\" in append mode ('a')\n",
        "    with open(\"my_file.txt\", \"a\") as file:\n",
        "        # Append three additional lines of text to the existing content\n",
        "        file.write(\"Appending line 1.\\n\")\n",
        "        file.write(\"Appending line 2.\\n\")\n",
        "        file.write(\"Appending line 3.\\n\")\n",
        "\n",
        "    # Open the file \"my_file.txt\" in read mode ('r')\n",
        "    with open(\"my_file.txt\", \"r\") as file:\n",
        "        # Read the contents of the file and display them on the console\n",
        "        contents = file.read()\n",
        "        print(contents)\n",
        "\n",
        "except FileNotFoundError:\n",
        "    print(\"File not found.\")\n",
        "except PermissionError:\n",
        "    print(\"Permission denied.\")\n",
        "except Exception as e:\n",
        "    print(\"An error occurred:\", e)\n",
        "\n",
        "finally:\n",
        "    # Cleanup code (if any) can be placed here\n",
        "    pass\n"
      ],
      "metadata": {
        "colab": {
          "base_uri": "https://localhost:8080/"
        },
        "id": "VvJIgsHrxVKg",
        "outputId": "d202ffd9-465e-4412-b084-8b592c8ca3a0"
      },
      "execution_count": 4,
      "outputs": [
        {
          "output_type": "stream",
          "name": "stdout",
          "text": [
            "Hello, this is line 1.\n",
            "42 is a fascinating number.\n",
            "Python is awesome!\n",
            "Appending line 1.\n",
            "Appending line 2.\n",
            "Appending line 3.\n",
            "\n"
          ]
        }
      ]
    }
  ]
}